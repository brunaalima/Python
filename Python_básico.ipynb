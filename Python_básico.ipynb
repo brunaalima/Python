{
  "nbformat": 4,
  "nbformat_minor": 0,
  "metadata": {
    "colab": {
      "name": "Python básico.ipynb",
      "provenance": [],
      "toc_visible": true
    },
    "kernelspec": {
      "name": "python3",
      "display_name": "Python 3"
    },
    "language_info": {
      "name": "python"
    }
  },
  "cells": [
    {
      "cell_type": "markdown",
      "metadata": {
        "id": "UP8voLJJ-NYa"
      },
      "source": [
        "##Python Básico\n"
      ]
    },
    {
      "cell_type": "markdown",
      "metadata": {
        "id": "ZOO1rWaj-pOs"
      },
      "source": [
        "### Entrada e Saída de arquivos (I/O)\n",
        "É possível ler, editar e salvar arquivos a partir das linhas de comando.\n",
        "Existem caracteres específicos para cada tipo de manupulação do arquivo.\n",
        "\n",
        "**r - Leitura**\n",
        "\n",
        "**w - Escrita e modificação do conteúdo já existente**\n",
        "\n",
        "**a - Adição de novos elementos em um arquivo existente**\n",
        "\n",
        "**b - modo binário de leitura/gravação**\n",
        "\n"
      ]
    },
    {
      "cell_type": "code",
      "metadata": {
        "id": "IR6FzhxJ9wnr"
      },
      "source": [
        "#Criando um arquivo \n",
        "\n",
        "arq = open('dados_numericos.txt','w')\n",
        "\n",
        "#escrevendo no arquivo\n",
        "\n",
        "for linha in range(0,101):\n",
        "  arq.write('%d %d \\n'%(linha,linha**2))\n",
        "\n",
        "arq.close()"
      ],
      "execution_count": null,
      "outputs": []
    },
    {
      "cell_type": "code",
      "metadata": {
        "id": "vkZt3vcDnCqH"
      },
      "source": [
        "#lendo de um arquivo\n",
        "\n",
        "arq = open('dados_numericos.txt','r')\n",
        "\n",
        "linhas = arq.readlines()\n",
        "\n",
        "for linha in linhas:\n",
        "  print(linha)\n",
        "arq.close()"
      ],
      "execution_count": null,
      "outputs": []
    },
    {
      "cell_type": "code",
      "metadata": {
        "id": "uNqaHoVJnv-n"
      },
      "source": [
        "#abrindo arquivo no modo append\n",
        "\n",
        "arq = open('dados_numericos.txt','a')\n",
        "\n",
        "for i in range(0,7):\n",
        "  arq.write('%d \\n'% i)\n",
        "  \n",
        "arq.close()"
      ],
      "execution_count": null,
      "outputs": []
    },
    {
      "cell_type": "code",
      "metadata": {
        "id": "35PVSMTmNLcq"
      },
      "source": [
        "#import de biblioteca para trabalhar com arquivo CSV\n",
        "import csv"
      ],
      "execution_count": null,
      "outputs": []
    },
    {
      "cell_type": "code",
      "metadata": {
        "id": "9l2TRt9WPxa8"
      },
      "source": [
        "#abrindo arquivo CSV para leitura\n",
        "with open('PETR4.SA.csv','r') as arquivo:\n",
        "  linhas = csv.reader(arquivo)\n",
        "  for linha in linhas:\n",
        "    print(linha)"
      ],
      "execution_count": null,
      "outputs": []
    },
    {
      "cell_type": "code",
      "metadata": {
        "id": "0XxKLMWNTQBV"
      },
      "source": [
        "#abrindo arquivo CSV 2\n",
        "arquivo = open('PETR4.SA.csv','r')\n",
        "dados = arquivo.readlines()\n",
        "\n",
        "print(dados)"
      ],
      "execution_count": null,
      "outputs": []
    },
    {
      "cell_type": "code",
      "metadata": {
        "id": "ogA4lsprQb3C"
      },
      "source": [
        "#criando arquivo CSV para escrita\n",
        "with open('DADOS.csv','w') as arquivo:\n",
        "  leitor = csv.writer(arquivo)\n",
        "  leitor.writerow(('Col 1','Col 2','Col 3'))\n",
        "  for i in range (100):\n",
        "    leitor.writerow((i,2*i,3*i))"
      ],
      "execution_count": null,
      "outputs": []
    },
    {
      "cell_type": "code",
      "metadata": {
        "id": "oEIfEAX7SHgp"
      },
      "source": [
        "#Conversão de dados para uma lista\n",
        "\n",
        "with open('PETR4.SA.csv','r') as arquivo:\n",
        "  leitor = csv.reader(arquivo)\n",
        "  dados = list(leitor)\n",
        "  print (dados)"
      ],
      "execution_count": null,
      "outputs": []
    },
    {
      "cell_type": "markdown",
      "metadata": {
        "id": "O0BjBd3VTzpy"
      },
      "source": [
        "### Listagem e manipulação de arquivos dentro de um diretório"
      ]
    },
    {
      "cell_type": "code",
      "metadata": {
        "id": "rvJntwpIT_3C",
        "colab": {
          "base_uri": "https://localhost:8080/",
          "height": 35
        },
        "outputId": "fa7a6448-6873-4e8b-d017-1f8a815689c7"
      },
      "source": [
        "import os\n",
        "#mostra o diretório atual de trabalho\n",
        "os.getcwd()"
      ],
      "execution_count": null,
      "outputs": [
        {
          "output_type": "execute_result",
          "data": {
            "application/vnd.google.colaboratory.intrinsic+json": {
              "type": "string"
            },
            "text/plain": [
              "'/content'"
            ]
          },
          "metadata": {
            "tags": []
          },
          "execution_count": 4
        }
      ]
    },
    {
      "cell_type": "code",
      "metadata": {
        "id": "tbVARamCX3fh"
      },
      "source": [
        "#Criação de um novo diretório\n",
        "os.mkdir('arquivos')"
      ],
      "execution_count": null,
      "outputs": []
    },
    {
      "cell_type": "code",
      "metadata": {
        "id": "uzqfQ9yKY2sZ"
      },
      "source": [
        "#listar diretórios\n",
        "os.listdir()\n",
        "\n",
        "#troca de diretório\n",
        "os.chdir('arquivos')"
      ],
      "execution_count": null,
      "outputs": []
    },
    {
      "cell_type": "code",
      "metadata": {
        "id": "X10BXnxfZbhp"
      },
      "source": [
        "#retornando arquivo para diretório anterior ao atual\n",
        "\n",
        "os.chdir('..')"
      ],
      "execution_count": null,
      "outputs": []
    },
    {
      "cell_type": "code",
      "metadata": {
        "id": "m6n2S_J7Z4V3"
      },
      "source": [
        "#renomeando diretórios\n",
        "\n",
        "os.rename('arquivos_python','arquivos')"
      ],
      "execution_count": null,
      "outputs": []
    },
    {
      "cell_type": "markdown",
      "metadata": {
        "id": "d_qsMbGhbV3x"
      },
      "source": [
        "### Data e Hora"
      ]
    },
    {
      "cell_type": "code",
      "metadata": {
        "id": "CqFUd_s_bYBz"
      },
      "source": [
        "import time"
      ],
      "execution_count": null,
      "outputs": []
    },
    {
      "cell_type": "code",
      "metadata": {
        "id": "AeQE8aalbsqQ"
      },
      "source": [
        "#mostra o tempo agora em segundos\n",
        "atual = time.time()\n",
        "\n",
        "print(atual)\n",
        "#traduz a notação tempora de máquina\n",
        "time.ctime(atual)\n",
        "\n",
        "local = time.localtime()\n",
        "\n",
        "print('Ano: %d' % local.tm_year)\n",
        "\n",
        "print('Mês: %d' % local.tm_mon)\n",
        "\n",
        "print('Dia: %d' % local.tm_mday)"
      ],
      "execution_count": null,
      "outputs": []
    }
  ]
}