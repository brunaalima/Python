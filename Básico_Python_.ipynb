{
  "nbformat": 4,
  "nbformat_minor": 0,
  "metadata": {
    "colab": {
      "name": "Básico Python .ipynb",
      "provenance": [],
      "collapsed_sections": [],
      "toc_visible": true
    },
    "kernelspec": {
      "display_name": "Python 3",
      "name": "python3"
    },
    "language_info": {
      "name": "python"
    }
  },
  "cells": [
    {
      "cell_type": "markdown",
      "metadata": {
        "id": "B_QrXO_hoam4"
      },
      "source": [
        "#Básico Python\n",
        "\n"
      ]
    },
    {
      "cell_type": "markdown",
      "metadata": {
        "id": "KZms7tEg50pb"
      },
      "source": [
        "###Operações Matemáticas, lógicas e transformação"
      ]
    },
    {
      "cell_type": "code",
      "metadata": {
        "colab": {
          "background_save": true
        },
        "id": "PY1Tpi8wFLXT"
      },
      "source": [
        "#soma\n",
        "print(2+2)\n",
        "\n",
        "#Subtração\n",
        "print(3-2)\n",
        "\n",
        "#Multiplicação\n",
        "print(2*2)\n",
        "\n",
        "#Divisão (decimal)\n",
        "print(6/2)\n",
        "\n",
        "#Divisão (inteira)\n",
        "print(6//2)\n",
        "\n",
        "#módulo\n",
        "print(10%3)"
      ],
      "execution_count": null,
      "outputs": []
    },
    {
      "cell_type": "code",
      "metadata": {
        "id": "EBUVyk_AoRCR"
      },
      "source": [
        "#conversão \n",
        "\n",
        "print(float(3))\n",
        "\n",
        "print(int(3.7))"
      ],
      "execution_count": null,
      "outputs": []
    },
    {
      "cell_type": "code",
      "metadata": {
        "id": "mc2zXLC4G6k9"
      },
      "source": [
        "#Transformações Hexadecimal e Binário\n",
        "\n",
        "print(hex(77)) #Hexadecimal\n",
        "\n",
        "print(hex(231)) #Hexadecimal\n",
        "\n",
        "print(bin(77)) #Binário\n",
        "\n",
        "print(bin(231)) #Binário\n"
      ],
      "execution_count": null,
      "outputs": []
    },
    {
      "cell_type": "code",
      "metadata": {
        "id": "hxgV9nvxHkrE"
      },
      "source": [
        "#funções para computação científica\n",
        "\n",
        "print(abs(-8)) #Valor Absoluto\n",
        "\n",
        "print(pow(2,3)) #potência\n",
        "\n",
        "print(round(3.45)) #Arredondamento\n",
        "\n",
        "print(round(3.671234,2)) #Arredondamento com duas casas decimais"
      ],
      "execution_count": null,
      "outputs": []
    },
    {
      "cell_type": "markdown",
      "metadata": {
        "id": "QREEFoxZIj7L"
      },
      "source": [
        "###Indexação\n",
        "Diferente do R e do Martlab, a indexação em Python começa em 0.\n",
        "A representação da indexação do objeto em python é feita com o uso de colchetes [ ]"
      ]
    },
    {
      "cell_type": "code",
      "metadata": {
        "colab": {
          "base_uri": "https://localhost:8080/"
        },
        "id": "XOtYEruSJfvM",
        "outputId": "3aa41b51-eba6-453d-a620-9c6d84d11444"
      },
      "source": [
        "#Exemplo de string para usar a indexação\n",
        "\n",
        "string1 =  'Harry Potter e o Calice de fogo'\n",
        "print(string1[0])\n",
        "print(string1[1])\n",
        "print(string1[2])\n",
        "print(string1[3])"
      ],
      "execution_count": null,
      "outputs": [
        {
          "output_type": "stream",
          "text": [
            "H\n",
            "a\n",
            "r\n",
            "r\n"
          ],
          "name": "stdout"
        }
      ]
    },
    {
      "cell_type": "markdown",
      "metadata": {
        "id": "AvI19LqvKAvc"
      },
      "source": [
        "###Método find()\n",
        "Utilizado para encontrar o indice do objeto strings\n"
      ]
    },
    {
      "cell_type": "code",
      "metadata": {
        "colab": {
          "base_uri": "https://localhost:8080/"
        },
        "id": "EawzcsWSKLfk",
        "outputId": "76d2222b-0e6b-41e8-8313-078c3b059d0a"
      },
      "source": [
        "string1.find('P')"
      ],
      "execution_count": null,
      "outputs": [
        {
          "output_type": "execute_result",
          "data": {
            "text/plain": [
              "6"
            ]
          },
          "metadata": {
            "tags": []
          },
          "execution_count": 19
        }
      ]
    },
    {
      "cell_type": "markdown",
      "metadata": {
        "id": "ykqXHNQ7Ktrj"
      },
      "source": [
        "###Fatiamento *(Slice)*\n",
        "Para selecionar conjuntos de caracteres a partir de um certo ponto, é utilizado os ':' para fazer o fatiamento.\n"
      ]
    },
    {
      "cell_type": "code",
      "metadata": {
        "colab": {
          "base_uri": "https://localhost:8080/"
        },
        "id": "d65xMXMdLCh8",
        "outputId": "39243bfc-6568-40bb-aeea-722a94496864"
      },
      "source": [
        "print(string1[6:])\n",
        "print(string1[:5])\n",
        "print(string1[-1:])\n",
        "print(string1[-9:-1])\n",
        "print(string1[::-1]) #Inversão dos caracteres"
      ],
      "execution_count": null,
      "outputs": [
        {
          "output_type": "stream",
          "text": [
            "Potter e o Calice de fogo\n",
            "Harry\n",
            "o\n",
            "e de fog\n",
            "ogof ed ecilaC o e rettoP yrraH\n"
          ],
          "name": "stdout"
        }
      ]
    },
    {
      "cell_type": "markdown",
      "metadata": {
        "id": "pTiXrgsyM5l9"
      },
      "source": [
        "###Funções *Built-in* das Strings\n",
        "Upper: Transforma o texto para Caracteres Maiúsculos\n",
        "Lower: Transforma o texto para Caracteres Minúsculos\n",
        "Split: Separação de conjuntos a partir d eum Caracter específico\n"
      ]
    },
    {
      "cell_type": "code",
      "metadata": {
        "id": "CQtVtLspNE10"
      },
      "source": [
        "print(string1.upper())\n",
        "print(string1.lower())\n",
        "print(string1.split())\n",
        "print(string1.split('e'))"
      ],
      "execution_count": null,
      "outputs": []
    },
    {
      "cell_type": "markdown",
      "metadata": {
        "id": "LOZQFkAoOSAL"
      },
      "source": [
        "###Armazenamento de Dados\n"
      ]
    },
    {
      "cell_type": "markdown",
      "metadata": {
        "id": "mkfxECEbPx3y"
      },
      "source": [
        "####Listas\n",
        "\n",
        "Listas: Variável tida como uma sequencia generalizada.\n",
        "Cada tipo de armazenamento de dados é representado de uma maneira. As listas são representadas por [ ]\n",
        "\n",
        "o Fatiamento das listas é possível e implementado da mesma forma que o fatiamento das Strings.\n",
        "As listas são:\n",
        "\n",
        "\n",
        "*   Ordenadas\n",
        "*   Iteráveis\n",
        "*   Mutáveis\n",
        "*   Aceitam multiplos tipos de elementos\n",
        "\n"
      ]
    },
    {
      "cell_type": "code",
      "metadata": {
        "id": "Z5zqOPLlPQGE"
      },
      "source": [
        "#Criando uma Lista vazia\n",
        "lista_vazia = []\n",
        "\n",
        "lista_vazia2 = list()\n",
        "\n",
        "print(type(lista_vazia))\n",
        "print(type(lista_vazia2))\n",
        "\n",
        "#Criando uma lista não vazia\n",
        "\n",
        "lista1= ['Jose','Maria','Ana','Rafael','Renata','Aline']\n",
        "lista2= ['Jose, Maria, Ana, Rafael, Renata, Aline']\n",
        "print('Tamanho lista1: ',len(lista1))\n",
        "print('Tamanho lista2: ', len(lista2))\n",
        "\n",
        "#Retornando o elemento da lista na posição x\n",
        "print('Elemento na posição 0 da lista1: ',lista1[0])\n",
        "print('Elemento na posição 0 da lista2: ',lista2[0])\n",
        "\n",
        "#Criando uma lista mista\n",
        "lista_mista=['Joao',78,3.998,True]\n",
        "print('Lista Mista:', lista_mista)\n",
        "\n",
        "#deletando um elemento de uma lista\n",
        "del lista1[0]\n",
        "print('Lista1 após remoção do elemento da posição 0:',lista1)\n",
        "\n",
        "lista_mista.remove(78)\n",
        "print('Lista_mista após remoção do elemento 78: ',lista_mista)\n",
        "\n",
        "#Criando uma lista de listas\n",
        "\n",
        "lista=[['hoje','esta',56],[45,768,43],['é','isso','aí']]\n",
        "print('Uma lista de listas:',lista)\n",
        "\n",
        "#Junção de listas \n",
        "\n",
        "lista_total = lista1+lista2+lista_mista\n",
        "print('Essa é a junção das listas 1, 2 e mista:',lista_total)\n",
        "\n",
        "#Operador de verificação\n",
        "\n",
        "retorno = 56 in lista_total\n",
        "print('o valor 56 está na lista_total? Resposta: ', retorno)\n",
        "\n",
        "#adição de elemento a lista\n",
        "lista_total.append('258')\n",
        "print('Lista total após a adição do elemento 258: ',lista_total)\n",
        "\n",
        "#função de contagem\n",
        "print('Exibe o número de vezes que Ana aparece na lista total: ', lista_total.count('Ana'))\n",
        "\n",
        "#Exibindo a posição de um elemento na lista\n",
        "\n",
        "print('Posição do elemento True na lista total: ',lista_total.index(True))\n",
        "\n",
        "#Inserindo elemento numa posição expecífica da lista\n",
        "\n",
        "lista_total.insert(0,'Jose')\n",
        "print(lista_total)\n",
        "\n",
        "#Ordenação dos elementos de uma lista\n",
        "lista_numerica = [1,3,5,2,3,6,8,89,9,6,]\n",
        "lista_numerica.sort()\n",
        "print('Lista numerica ordenada:',lista_numerica)\n",
        "\n",
        "lista_numerica.reverse()\n",
        "print('Lista numerica invertida:',lista_numerica)\n",
        "\n",
        "#Cópia de listas\n",
        "\n",
        "lista_numerica2=lista_numerica[:]\n",
        "lista_numerica2.append(13)\n",
        "print('Lista numérica Original:',lista_numerica)\n",
        "print('Cópia da lista numérica com a adição do elemento 13:', lista_numerica2)\n",
        "\n",
        "lista_numerica3 = lista_numerica2.copy() #uso da função copy para copiar uma lista\n",
        "lista_numerica4 = list(lista_numerica3) #uso do comando list para criação de uma lista usando a lista_numerica3 como parametro\n",
        "\n",
        "#list comprehension (pode ser utilizado em strings também)\n",
        "\n",
        "lista_numerica5 = [i**2 for i in range(10)]\n",
        "print('Lista com 10 valores entre 0 e 10 elevados ao quadrado:',lista_numerica5)\n",
        "lista_par=[i for i in lista_numerica5 if i % 2 == 0]\n",
        "print('Lista com os elementos pares da lista anterior:', lista_par)\n"
      ],
      "execution_count": null,
      "outputs": []
    },
    {
      "cell_type": "markdown",
      "metadata": {
        "id": "HqYlewm9Xglj"
      },
      "source": [
        "####Dicionários\n",
        "Os dicionários são como tabelas de dados do tipo chave e valor. Se as listas são representadas por colchetes '[ ]', os dicionários são representados pelo uso de chaves '{ }'.\n",
        "São ideais para fazer o armazenamento dos dados quando o mapeamento dos dados são requisitos importantes a serem considerados.\n",
        "Os dicionários relacionam uma coleção de opjetos que são armazenados por uma chave.\n",
        "São estruturas de chave e valor onde os seus elementos são:\n",
        "\n",
        "\n",
        "*   Não Ordenados\n",
        "*   Iteráveis\n",
        "*   Mutáveis\n",
        "*   Aceitam multiplos tipos de elementos\n",
        "\n"
      ]
    },
    {
      "cell_type": "code",
      "metadata": {
        "id": "YsT6wER4bnP6"
      },
      "source": [
        "#Criando um dicionário\n",
        "\n",
        "dicionario1 = {'Pedro':18,'João':17,'Ana':20,'Renata':22}\n",
        "print('Dicionário1 criado:',dicionario1)\n",
        "\n",
        "#usando as chaves para localizar o valor correspondente\n",
        "print('Valor correspondente a chave Pedro:',dicionario1['Pedro'])\n",
        "\n",
        "#Adicionando valores ao dicionário\n",
        "dicionario1['Ana'] = 25\n",
        "print('Dicionário1 após a atualização do valor da chave Ana:', dicionario1) \n",
        "dicionario1['Julia'] = 19\n",
        "print('Dicionario1 após a adição de uma chave/valor ao dicionário (julia):', dicionario1)\n",
        "\n",
        "#Principais funções dos dicionários\n",
        "\n",
        "print('Chaves do dicionário1:',dicionario1.keys()) #função keys()\n",
        "print('Valores do dicionário1:',dicionario1.values()) #função values()\n",
        "\n",
        "dicionario2={'Clara':30,'José':25}\n",
        "print('Dicionario2 criado:',dicionario2)\n",
        "dicionario1.update(dicionario2)\n",
        "print('União do dicionario2 ao dicionario1:',dicionario1)\n",
        "\n",
        "#Removendo itens do dicionario\n",
        "\n",
        "del dicionario1['Julia'] #remove chave/valor do dicionário\n",
        "print('Dicionario1 após a remoção da chave/valor Julia:',dicionario1)\n",
        "\n",
        "dicionario2.clear() #remove o conteúdo do dicionário\n",
        "print('Dicionario2 após o clear:',dicionario2)\n",
        "\n",
        "del dicionario2 #Apaga todo o dicionário2 tornando-o indefinido\n",
        "\n",
        "#Dicionários de listas\n",
        "\n",
        "dicionario3 = {'chave1':[12,1,4,5,6,7],'chave2':[1,2,3,4,5,6,7],'chave3':[5,4,6,7,8,3,2]}\n",
        "print('Dicionario de listas:',dicionario3)\n",
        "\n",
        "#Dicionario de dicionarios\n",
        "\n",
        "dicionario4 = {'chave4':{'primaria':2,'secundaria':5}}\n",
        "print('Dicionario de dicionário:',dicionario4)"
      ],
      "execution_count": null,
      "outputs": []
    },
    {
      "cell_type": "markdown",
      "metadata": {
        "id": "wLuO35wnd1it"
      },
      "source": [
        "####Tupla\n",
        "São estruturas similares às listas, a sua diferença está nas caracteristicas da estrutura.\n",
        "Diferente das listas, as tuplas são imutáveis.\n",
        "Representado por '( )', diferente das listas '[ ]' e dicionários '{ }'.\n",
        "*   O tamanho não pode ser alterado.\n",
        "*   Os elementos são imutáveis, iteráveis e ordenados\n",
        "*   Não podemos ter multiplos tipos de dados\n",
        "\n",
        "Muito usado quando é necessário garantir a integridade dos dados. E possui um número limitado de funções devido a sua caracteristica.\n",
        "\n",
        "*Obs.: No Python, na estrutura de uma tupla os parenteses não são requisitos obrigarótios. Os parenteses são usados para padronizar.*"
      ]
    },
    {
      "cell_type": "code",
      "metadata": {
        "id": "4UxJMGJbgKak"
      },
      "source": [
        "#Tuplas sem o uso de parenteses\n",
        "\n",
        "tupla1 = 'João','Maria','Ana','José','Renata'\n",
        "print('Criação da tupla1 sem o uso dos parenteses. O retorno do type é:',type(tupla1))\n",
        "\n",
        "tupla2 = ('All','I','Wanna','Do','J')\n",
        "print('Criação da tupla2 com o uso dos parenteses. O retorno do type é:',type(tupla1))\n"
      ],
      "execution_count": null,
      "outputs": []
    },
    {
      "cell_type": "markdown",
      "metadata": {
        "id": "u_-EAMTbmpil"
      },
      "source": [
        "####Vetores\n",
        "\n",
        "Para a criação de um vetor, é necessário primeiramente importar a biblioteca NumPy.\n",
        "Os vetores são conjuntos de dados que só podem ser populados com um tipo único.\n"
      ]
    },
    {
      "cell_type": "code",
      "metadata": {
        "id": "aLsNVI3tnUaq"
      },
      "source": [
        "import numpy as np\n",
        "\n",
        "#Criando um vetor\n",
        "\n",
        "vetor1 = np.array([1,2,3,4,5])\n",
        "print('Tipo do vetor1:',type(vetor1))\n",
        "\n",
        "#Tentando adicionar mais de um tipo de elemento ao vetor\n",
        "vetor2 = np.array([1,2,3,4,'5'])\n",
        "print('Vetor 2=',vetor2)\n",
        "print('Tipo do vetor: ',type(vetor2[0])) #O pyton transforma os elementos para o caso mais geral. No caso desse retorno, ele será em string"
      ],
      "execution_count": null,
      "outputs": []
    },
    {
      "cell_type": "markdown",
      "metadata": {
        "id": "1_gOrJjKVKrh"
      },
      "source": [
        "####Matrizes\n",
        "Uma coleção de vetores. Os elementos podem ser numeros reais, complexos, expressões algebricas e até mesmo funções.\n",
        "As matrizes são compostas por linhas e coluna e por se tratar de uma coleção de vetores, as matrizes também precisam possuir apenas elementos de um mesmo tipo.\n",
        "\n",
        "*Obs.: Para a realização da multiplicação matricial é necessário concordancia entre o número de colunas de uma matriz com o numero de linhas da outra matriz.\n",
        "por isso é necessário obter a transposta da matriz de forma que seja transformado as linhas em colunas*"
      ]
    },
    {
      "cell_type": "code",
      "metadata": {
        "id": "AvZ8LLt6Vm_r"
      },
      "source": [
        "import numpy as np\n",
        "\n",
        "#Criando uma matriz (modo 1)\n",
        "\n",
        "matriz1 = np.array([[1,2,3],[4,5,6]]) \n",
        "print('Tipo da matriz1:',type(matriz1))\n",
        "\n",
        "#Criando uma matriz (modo 2)\n",
        "\n",
        "matriz2 = np.matrix([[6,5,4],[3,2,1]])\n",
        "print('Tipo da matriz2:', type(matriz2))\n",
        "\n",
        "#Acessando elementos da matriz\n",
        "\n",
        "print('Acessando o elemento 2 da coluna 3 (matriz1):',matriz1[1,2])\n",
        "print('Acessando o elemento 2 da coluna 3 (Matriz2):',matriz2[1,2])\n",
        "print('Todos os elementos da linha1 da matriz1:',matriz1[0,:])\n",
        "print('Os elementos da coluna2 da matriz2:',matriz2[:,1])\n",
        "\n",
        "#Operação com vetores e matrizes\n",
        "\n",
        "vetor3 = np.array([10,11,12])\n",
        "vetor_matriz_soma=vetor3+matriz1\n",
        "print('Soma entre o vetor3 e a matriz1:',vetor_matriz_soma)\n",
        "\n",
        "vetor_matriz_multiplicacao = vetor3*matriz1\n",
        "print('Multiplicacao entre vetor3 e matriz1:',vetor_matriz_multiplicacao)\n",
        "\n",
        "matrizes_multiplicacao = 2*matriz1+matriz2\n",
        "print('Multiplicacao da matriz1 somada a matriz2:',matrizes_multiplicacao)\n",
        "\n",
        "#multiplicação matricial\n",
        "\n",
        "mult_matricial=np.dot(matriz1,matriz2.T)\n",
        "\n",
        "print('Multiplicação matricial:',mult_matricial)"
      ],
      "execution_count": null,
      "outputs": []
    },
    {
      "cell_type": "markdown",
      "metadata": {
        "id": "UJquG667LN7l"
      },
      "source": [
        "###Condicionais, laços de repetição e listas\n"
      ]
    },
    {
      "cell_type": "markdown",
      "metadata": {
        "id": "7XwGzYb1NUh1"
      },
      "source": [
        "####Condicionais\n",
        "if,else e elif\n"
      ]
    },
    {
      "cell_type": "code",
      "metadata": {
        "id": "jbDrb8KXWn2M"
      },
      "source": [
        "#Condicional if\n",
        "\n",
        "A=10\n",
        "B=7\n",
        "\n",
        "if A>B:\n",
        "  print(\"A é maior que B!\")\n",
        "if B>A:\n",
        "  print(\"B é maior que A!\")\n",
        "\n",
        "#Condicional Else\n",
        "\n",
        "C=int(input(\"Digite o valor para C:\"))\n",
        "D=int(input(\"Digite o valor para D:\"))\n",
        "\n",
        "if C>D:\n",
        "  print(\"C é maior que D!\")\n",
        "else:\n",
        "  print(\"C não é maior que D!\")\n",
        "\n",
        "#Condicional elif\n",
        "\n",
        "E=int(input(\"Digite o valor de E:\"))\n",
        "F=int(input(\"Digite o valor de F:\"))\n",
        "\n",
        "if E>F:\n",
        "  print(\"E é maior que F!\")\n",
        "elif E<F:\n",
        "  print(\"F é maior que E!\")\n",
        "else:\n",
        "  print(\"Os valores de E e F são iguais!\")\n"
      ],
      "execution_count": null,
      "outputs": []
    },
    {
      "cell_type": "markdown",
      "metadata": {
        "id": "VncaESNqZpXM"
      },
      "source": [
        "####Laços de repetição\n"
      ]
    },
    {
      "cell_type": "code",
      "metadata": {
        "id": "DdJmXkiMZs4-"
      },
      "source": [
        "#laço de repetição for\n",
        "\n",
        "for i in range(10):\n",
        "  print(i+1)\n",
        "\n",
        "for i in range(0,20,3):\n",
        "  print(i)\n",
        "#laço de repetição while\n",
        "\n",
        "cont=1\n",
        "while cont<=10:\n",
        "  print(cont)\n",
        "  cont+=1"
      ],
      "execution_count": null,
      "outputs": []
    },
    {
      "cell_type": "markdown",
      "metadata": {
        "id": "ULlnxL6hyJ7v"
      },
      "source": [
        "####Jogo de adivinhação"
      ]
    },
    {
      "cell_type": "code",
      "metadata": {
        "id": "3bGbh1PejU6k"
      },
      "source": [
        "import numpy as np\n",
        "\n",
        "numero_tentativas = 0\n",
        "acerto=0\n",
        "numero_oculto = np.random.randint(0,50)\n",
        "\n",
        "while numero_tentativas<=10 and acerto==0:\n",
        "  numero_chute=int(input(\"Digite o chute para o número oculto:\"))\n",
        "  if numero_chute==numero_oculto:\n",
        "    acerto=1\n",
        "    print(\"Parabéns! Você acertou o número oculto!\")\n",
        "  elif numero_chute<numero_oculto:\n",
        "    print(\"hmmm, o seu chute é menor que o número oculto... Tente novamente.\")\n",
        "  elif numero_chute>numero_oculto:\n",
        "    print(\"hmmm, o seu chute é maior que o número oculto... Tente novamente.\")\n",
        "  numero_tentativas+=1\n",
        "if numero_tentativas==10 and acerto==0:\n",
        "  print(\"Game over! O número oculto é:\",numero_oculto)\n"
      ],
      "execution_count": null,
      "outputs": []
    },
    {
      "cell_type": "markdown",
      "metadata": {
        "id": "A6zL06dxziUW"
      },
      "source": [
        "###Funções\n",
        "Podemos representar em funções um grupo de linhas de códigos de muitas etapas (ou não) onde a mesma ação aparece repetida dentro do código. É uma maneira de otimizar o código, simplificando as estruturas.\n",
        "\n",
        "**Representação:** \n",
        "\n",
        "`def nome_funcao (argumento1,argumento2,...,argumenton):`\n",
        "\n",
        "  `corpo da funcao`\n",
        "\n",
        "  `retorno da funcao`\n",
        "\n",
        "\n"
      ]
    },
    {
      "cell_type": "code",
      "metadata": {
        "id": "Q5H33fHOzlnI"
      },
      "source": [
        "#função de soma\n",
        "\n",
        "def soma(elementoa,elementob):\n",
        "  return elementoa+elementob\n",
        "\n",
        "#função de subtração\n",
        "def subtracao(elementoa,elementob):\n",
        "  return elementoa-elementob\n",
        "\n",
        "#função de multiplicação\n",
        "\n",
        "def multiplicacao(elementoa,elementob):\n",
        "  return elementoa*elementob\n",
        "\n",
        "#função de divisão\n",
        "\n",
        "def divisao(elementoa,elementob):\n",
        "  if elementob!=0:\n",
        "    return elementoa/elementob\n",
        "  else:\n",
        "    return \"Não é possível fazer divisão por 0.\"\n",
        "\n",
        "#'função' principal\n",
        "\n",
        "A=int(input(\"Digite o valor para o primeiro elemento das operações matemáticas:\"))\n",
        "B=int(input(\"Digite o valor para o segundo elemento das operações matemáticas:\"))\n",
        "\n",
        "s=soma(A,B)\n",
        "sub=subtracao(A,B)\n",
        "multip=multiplicacao(A,B)\n",
        "divi=divisao(A,B)\n",
        "print(\"O valor da soma dos valores é:\",s)\n",
        "print(\"O valor da subtracao dos valores é:\",sub)\n",
        "print(\"O valor da multiplicação dos valores é:\",multip)\n",
        "print(\"O valor da divisão dos valores é:\",divi)\n",
        "\n",
        "#Função com argumentos indetermináveis \n",
        "\n",
        "def soma_valores(*valores):\n",
        "  soma=0\n",
        "  for i in valores:\n",
        "    soma+=i\n",
        "  return soma\n",
        "\n",
        "print('Usando a função soma_valores para multiplas entradas(8 elementos):',soma_valores(1,2,3,4,5,6,7,8))\n",
        "print('Usando a função soma_valores para multiplas entradas(4 elementos):',soma_valores(1,2,3,46))\n",
        "\n",
        "#funções lambda (funções inline ou funções anônimas)\n",
        "\n",
        "duplica_valor = lambda x:x*2\n",
        "print('função lambda duplica valor:',duplica_valor(5))\n",
        "\n",
        "inverte_letras = lambda palavra:palavra[::-1]\n",
        "print('Função lambda inverte palavra:',inverte_letras('Harry'))"
      ],
      "execution_count": null,
      "outputs": []
    }
  ]
}