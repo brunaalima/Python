{
  "nbformat": 4,
  "nbformat_minor": 0,
  "metadata": {
    "colab": {
      "name": "Boxplot.ipynb",
      "provenance": []
    },
    "kernelspec": {
      "name": "python3",
      "display_name": "Python 3"
    },
    "language_info": {
      "name": "python"
    }
  },
  "cells": [
    {
      "cell_type": "markdown",
      "metadata": {
        "id": "E9Vx04KxCpz0"
      },
      "source": [
        "##Boxplot\n",
        "Um diagrama de caixa, na estatística descritiva, é uma ferramenta gráfica usada para representar a variação de dados por meio de quartis.\n"
      ]
    },
    {
      "cell_type": "code",
      "metadata": {
        "id": "uOLIlVYQ9T1J",
        "colab": {
          "base_uri": "https://localhost:8080/",
          "height": 281
        },
        "outputId": "f109ab0a-fd18-4bd8-fae7-8908b615f7ca"
      },
      "source": [
        "import matplotlib.pyplot as plt\n",
        "import random\n",
        "\n",
        "vetor = []\n",
        "\n",
        "for i in range(10):\n",
        "  numero_aleatorio = random.randint(0,1000)\n",
        "  vetor.append(numero_aleatorio)\n",
        "\n",
        "plt.boxplot(vetor)\n",
        "plt.title('Boxplot')\n",
        "plt.show()"
      ],
      "execution_count": 7,
      "outputs": [
        {
          "output_type": "display_data",
          "data": {
            "image/png": "[encoded data removed]",
            "text/plain": [
              "<Figure size 432x288 with 1 Axes>"
            ]
          },
          "metadata": {
            "tags": [],
            "needs_background": "light"
          }
        }
      ]
    }
  ]
}