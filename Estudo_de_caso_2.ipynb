{
  "nbformat": 4,
  "nbformat_minor": 0,
  "metadata": {
    "colab": {
      "name": "Estudo de caso 2.ipynb",
      "provenance": [],
      "collapsed_sections": []
    },
    "kernelspec": {
      "name": "python3",
      "display_name": "Python 3"
    },
    "language_info": {
      "name": "python"
    }
  },
  "cells": [
    {
      "cell_type": "markdown",
      "metadata": {
        "id": "SYejPyDKId3j"
      },
      "source": [
        "##Estudo de caso: Bioinformática\n",
        "\n",
        "Comparação entre duas sequencias de DNA: um humano e uma bactéria\n",
        "\n",
        "###Dados Utilizados\n",
        "\n",
        "Human 18S rRNA gene, complete\n",
        "\n",
        "Fonte: https://www.ncbi.nlm.nih.gov/nuccore/M10098.1?report=fasta\n",
        "\n",
        "Escherichia coli strain U 5/41 16S ribosomal RNA gene, partial sequence\n",
        "\n",
        "Fonte: https://www.ncbi.nlm.nih.gov/nuccore/NR_024570.1?report=fasta\n",
        "\n",
        "Obs.: Estudo de caso feito em acompanhamento aos videos do curso da Udemy: https://www.udemy.com/share/101r1QBEIbdVtSTXg=/ "
      ]
    },
    {
      "cell_type": "code",
      "metadata": {
        "id": "VYi8e68eINZw"
      },
      "source": [
        "entrada = open('bacteria.fasta').read()\n",
        "saida = open('bacteria.html','w')\n",
        "\n",
        "cont = {}\n",
        "\n",
        "for i in ['A','T','C','G']:\n",
        "  for j in ['A','T','C','G']:\n",
        "    cont[i+j] = 0\n",
        "\n",
        "entrada = entrada.replace('\\n','')\n",
        "for k in range(len(entrada)-1):\n",
        "  cont[entrada[k]+entrada[k+1]] += 1\n",
        "\n",
        "i = 1\n",
        "for k in cont:\n",
        "  transparencia = cont[k]/max(cont.values())\n",
        "  saida.write(\"<div style='width:100px; border:1px solid #111; height:100px;float:left; background-color:rgba(0, 0, 255,\"+str(transparencia)+\"')></div>\")\n",
        "  if i%4 == 0:\n",
        "    saida.write(\"<div style='clear:both'></div>\")\n",
        "  i+=1\n",
        "saida.close()"
      ],
      "execution_count": 22,
      "outputs": []
    },
    {
      "cell_type": "code",
      "metadata": {
        "id": "jyPFVttYpIr_"
      },
      "source": [
        "entrada = open('human.fasta').read()\n",
        "saida = open('human.html','w')\n",
        "\n",
        "cont = {}\n",
        "\n",
        "for i in ['A','T','C','G']:\n",
        "  for j in ['A','T','C','G']:\n",
        "    cont[i+j] = 0\n",
        "\n",
        "entrada = entrada.replace('\\n','')\n",
        "for k in range(len(entrada)-1):\n",
        "  cont[entrada[k]+entrada[k+1]] += 1\n",
        "\n",
        "i = 1\n",
        "for k in cont:\n",
        "  transparencia = cont[k]/max(cont.values())\n",
        "  saida.write(\"<div style='width:100px; border:1px solid #111; height:100px;float:left; background-color:rgba(0, 0, 255,\"+str(transparencia)+\"')></div>\")\n",
        "  if i%4 == 0:\n",
        "    saida.write(\"<div style='clear:both'></div>\")\n",
        "  i+=1\n",
        "saida.close()"
      ],
      "execution_count": 23,
      "outputs": []
    }
  ]
}